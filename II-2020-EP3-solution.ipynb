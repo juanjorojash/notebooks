{
 "metadata": {
  "language_info": {
   "codemirror_mode": {
    "name": "ipython",
    "version": 3
   },
   "file_extension": ".py",
   "mimetype": "text/x-python",
   "name": "python",
   "nbconvert_exporter": "python",
   "pygments_lexer": "ipython3",
   "version": "3.9.0-final"
  },
  "orig_nbformat": 2,
  "kernelspec": {
   "name": "python3",
   "display_name": "Python 3.9.0 64-bit",
   "metadata": {
    "interpreter": {
     "hash": "375ffe169b9b2bfcc8892bffc7fa77cb3158b2e2294881d45810b3166de6757d"
    }
   }
  }
 },
 "nbformat": 4,
 "nbformat_minor": 2,
 "cells": [
  {
   "source": [
    "# Solución del 3er Examen Parcial \n",
    "\n",
    "## El enunciado de este examen se encuentra [acá](https://estudianteccr-my.sharepoint.com/:b:/g/personal/prof_juan_rojas_estudiantec_cr/EZI39opnuzdMjrJK_b6jtRwBvJUeCblqKjm0iB4d0AgrRA)\n",
    "\n",
    "Primero se incluye *numpy*"
   ],
   "cell_type": "markdown",
   "metadata": {}
  },
  {
   "cell_type": "code",
   "execution_count": 1,
   "metadata": {},
   "outputs": [],
   "source": [
    "import numpy as np"
   ]
  },
  {
   "source": [
    "Luego definimos tres operadores \n",
    "* `d2r` para convertir de grados a radianes\n",
    "* `r2d` para convertir de radianes a grados\n",
    "* `to_rd` para convertir de polar a rectangular\n",
    "* `to_pd` para convertir de rectangular a polar "
   ],
   "cell_type": "markdown",
   "metadata": {}
  },
  {
   "cell_type": "code",
   "execution_count": 2,
   "metadata": {},
   "outputs": [],
   "source": [
    "d2r = lambda x: np.deg2rad(x)\n",
    "r2d = lambda x: np.rad2deg(x)\n",
    "to_rd = lambda m, d: m * np.exp(1j*d2r(d))\n",
    "to_pd = lambda x: (abs(x), r2d(np.angle(x)))"
   ]
  },
  {
   "source": [
    "Ahora se ingresa el numero de carné y se define `X` y `Y`"
   ],
   "cell_type": "markdown",
   "metadata": {}
  },
  {
   "cell_type": "code",
   "execution_count": 3,
   "metadata": {},
   "outputs": [
    {
     "output_type": "stream",
     "name": "stdout",
     "text": [
      "X = 1\nY = 1\n"
     ]
    }
   ],
   "source": [
    "carne = input(\"Numero de carné: \")\n",
    "X = int(carne[len(carne)-2])\n",
    "Y = int(carne[len(carne)-3])\n",
    "print(\"X = {0}\".format(X))\n",
    "print(\"Y = {0}\".format(Y))"
   ]
  },
  {
   "source": [
    "### Primer problema\n",
    "\n",
    "![Prob 1](img/prob1.jpg)\n",
    "\n",
    "Resolvemos las mallas...\n",
    "\n",
    "Ecuación de la malla $i_1$\n",
    "\n",
    "$(4+jX)\\cdot i_1 + \\left(10 + \\dfrac{Y}{2} - jX\\right)\\cdot i_2 = 15$\n",
    "\n",
    "Ecuación de la malla $i_2$\n",
    "\n",
    "$(-jX)\\cdot i_1 + \\left(-5 - \\dfrac{Y}{2} + j(X - 2) \\right)\\cdot i_2 = 0$\n",
    "\n",
    "con estos resultados definimos las variables y solucionamos el sistema de ecuaciones\n"
   ],
   "cell_type": "markdown",
   "metadata": {}
  },
  {
   "cell_type": "code",
   "execution_count": 4,
   "metadata": {},
   "outputs": [],
   "source": [
    "A = 4 + X*1j\n",
    "B = 10 + Y/2 - X*1j\n",
    "C = -X*1j\n",
    "D = -5 - Y/2 + (X-2)*1j \n",
    "E = 15\n",
    "F = 0\n",
    "\n",
    "a = np.array([ [A,B],\n",
    "               [C,D] ])\n",
    "\n",
    "b = np.array([ [E],\n",
    "               [F] ])\n",
    "\n",
    "x = np.linalg.solve(a, b)\n",
    "\n",
    "Ep = to_pd(E) #E en formato polar\n",
    "Fp = to_pd(F) #F en formato polar\n",
    "i1 = to_pd(x[0])\n",
    "i2 = to_pd(x[1])\n",
    "v0 = to_pd(5*x[1])"
   ]
  },
  {
   "source": [
    "Ahora se imprimen los resultados..."
   ],
   "cell_type": "markdown",
   "metadata": {}
  },
  {
   "cell_type": "code",
   "execution_count": 5,
   "metadata": {},
   "outputs": [
    {
     "output_type": "stream",
     "name": "stdout",
     "text": [
      "Resultados del primer problema\nA = 4.000+1.000j\nB = 10.500-1.000j\nC = -0.000-1.000j\nD = -5.500-1.000j\nE = 15.000 ∠ 0.000\nF = 0.000 ∠ 0.000\nv0 = 3.745 ∠ -87.138\n"
     ]
    }
   ],
   "source": [
    "print(\"Resultados del primer problema\")\n",
    "print('A = {:.3f}'.format(A))\n",
    "print('B = {:.3f}'.format(B))\n",
    "print('C = {:.3f}'.format(C))\n",
    "print('D = {:.3f}'.format(D))\n",
    "print(\"E = %5.3f\" %Ep[0], end=' ')\n",
    "print(\"∠\", end=' ')\n",
    "print(\"%5.3f\" %Ep[1])\n",
    "print(\"F = %5.3f\" %Fp[0], end=' ')\n",
    "print(\"∠\", end=' ')\n",
    "print(\"%5.3f\" %Fp[1])\n",
    "# print(\"i1 = %5.3f\" %i1[0], end=' ')\n",
    "# print(\"∠\", end=' ')\n",
    "# print(\"%5.3f\" %i1[1])\n",
    "# print(\"i2 = %5.3f\" %i2[0], end=' ')\n",
    "# print(\"∠\", end=' ')\n",
    "# print(\"%5.3f\" %i2[1])\n",
    "print(\"v0 = %5.3f\" %v0[0], end=' ')\n",
    "print(\"∠\", end=' ')\n",
    "print(\"%5.3f\" %v0[1])"
   ]
  }
 ]
}