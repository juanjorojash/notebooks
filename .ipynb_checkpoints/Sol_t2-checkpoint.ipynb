{
 "cells": [
  {
   "cell_type": "markdown",
   "metadata": {},
   "source": [
    "# Solución de la Tarea 2"
   ]
  },
  {
   "cell_type": "code",
   "execution_count": 3,
   "metadata": {},
   "outputs": [
    {
     "name": "stdout",
     "output_type": "stream",
     "text": [
      "Las columnas son:\n",
      "['SOC', 'OCV']\n"
     ]
    },
    {
     "data": {
      "image/png": "[encoded data removed]",
      "text/plain": [
       "<Figure size 432x288 with 1 Axes>"
      ]
     },
     "metadata": {
      "needs_background": "light"
     },
     "output_type": "display_data"
    }
   ],
   "source": [
    "import csv\n",
    "import numpy as np\n",
    "import matplotlib.pyplot as plt\n",
    "\n",
    "title = np.array(['',''])\n",
    "soc = np.array([])\n",
    "ocv = np.array([])\n",
    "\n",
    "with open(\"OCV(z).csv\", mode=\"r\")as file:\n",
    "    read = csv.reader(file)\n",
    "    row_count = 0\n",
    "    for row in read:\n",
    "        if row_count == 0:\n",
    "            title = row\n",
    "            row_count += 1\n",
    "        else:\n",
    "            soc = np.append(soc,float(row[0]))\n",
    "            ocv = np.append(ocv,float(row[1]))\n",
    "\n",
    "\n",
    "print(\"Las columnas son:\")\n",
    "print(title)\n",
    "plt.plot(soc,ocv)\n",
    "plt.show()"
   ]
  },
  {
   "cell_type": "code",
   "execution_count": null,
   "metadata": {},
   "outputs": [],
   "source": []
  }
 ],
 "metadata": {
  "kernelspec": {
   "display_name": "Python 3",
   "language": "python",
   "name": "python3"
  },
  "language_info": {
   "codemirror_mode": {
    "name": "ipython",
    "version": 3
   },
   "file_extension": ".py",
   "mimetype": "text/x-python",
   "name": "python",
   "nbconvert_exporter": "python",
   "pygments_lexer": "ipython3",
   "version": "3.8.3"
  }
 },
 "nbformat": 4,
 "nbformat_minor": 4
}
