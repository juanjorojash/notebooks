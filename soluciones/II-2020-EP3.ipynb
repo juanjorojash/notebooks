{
 "metadata": {
  "language_info": {
   "codemirror_mode": {
    "name": "ipython",
    "version": 3
   },
   "file_extension": ".py",
   "mimetype": "text/x-python",
   "name": "python",
   "nbconvert_exporter": "python",
   "pygments_lexer": "ipython3",
   "version": "3.9.0-final"
  },
  "orig_nbformat": 2,
  "kernelspec": {
   "name": "python3",
   "display_name": "Python 3.9.0 64-bit",
   "metadata": {
    "interpreter": {
     "hash": "375ffe169b9b2bfcc8892bffc7fa77cb3158b2e2294881d45810b3166de6757d"
    }
   }
  }
 },
 "nbformat": 4,
 "nbformat_minor": 2,
 "cells": [
  {
   "source": [
    "# Solución del 3er Examen Parcial \n",
    "\n",
    "## El enunciado de este examen se encuentra [acá](https://estudianteccr-my.sharepoint.com/:b:/g/personal/prof_juan_rojas_estudiantec_cr/EZI39opnuzdMjrJK_b6jtRwBvJUeCblqKjm0iB4d0AgrRA)\n",
    "\n",
    "Primero se incluye *numpy*"
   ],
   "cell_type": "markdown",
   "metadata": {}
  },
  {
   "cell_type": "code",
   "execution_count": 1,
   "metadata": {},
   "outputs": [],
   "source": [
    "import numpy as np"
   ]
  },
  {
   "source": [
    "Luego definimos tres operadores \n",
    "* `d2r` para convertir de grados a radianes\n",
    "* `r2d` para convertir de radianes a grados\n",
    "* `to_rd` para convertir de polar a rectangular\n",
    "* `to_pd` para convertir de rectangular a polar "
   ],
   "cell_type": "markdown",
   "metadata": {}
  },
  {
   "cell_type": "code",
   "execution_count": 2,
   "metadata": {},
   "outputs": [],
   "source": [
    "d2r = lambda x: np.deg2rad(x)\n",
    "r2d = lambda x: np.rad2deg(x)\n",
    "to_rd = lambda m, d: m * np.exp(1j*d2r(d))\n",
    "to_pd = lambda x: (abs(x), r2d(np.angle(x)))"
   ]
  },
  {
   "source": [
    "Ahora se ingresa el numero de carné y se define `X` y `Y`"
   ],
   "cell_type": "markdown",
   "metadata": {}
  },
  {
   "cell_type": "code",
   "execution_count": 3,
   "metadata": {},
   "outputs": [
    {
     "output_type": "stream",
     "name": "stdout",
     "text": [
      "X = 10\nY = 3\n"
     ]
    }
   ],
   "source": [
    "carne = input(\"Numero de carné: \")\n",
    "X = int(carne[len(carne)-2])\n",
    "Y = int(carne[len(carne)-3])\n",
    "if X==0: #Si es 0 se vuelve 10\n",
    "    X = 10\n",
    "if Y==0:\n",
    "    Y = 10\n",
    "print(\"X = {0}\".format(X))\n",
    "print(\"Y = {0}\".format(Y))"
   ]
  },
  {
   "source": [
    "### Primer problema\n",
    "\n",
    "![Prob 1](img/prob1.JPG)\n",
    "\n",
    "Resolvemos las mallas...\n",
    "\n",
    "Ecuación de la malla $i_1$\n",
    "\n",
    "$(4+jX)\\cdot i_1 + \\left(10 + \\dfrac{Y}{2} - jX\\right)\\cdot i_2 = 15$\n",
    "\n",
    "Ecuación de la malla $i_2$\n",
    "\n",
    "$(-jX)\\cdot i_1 + \\left(-5 - \\dfrac{Y}{2} + j(X - 2) \\right)\\cdot i_2 = 0$\n",
    "\n",
    "Además\n",
    "\n",
    "$v_0 = 5\\cdot i_2$\n",
    "\n",
    "con estos resultados definimos las variables y solucionamos el sistema de ecuaciones\n"
   ],
   "cell_type": "markdown",
   "metadata": {}
  },
  {
   "cell_type": "code",
   "execution_count": 4,
   "metadata": {},
   "outputs": [],
   "source": [
    "A = 4 + X*1j\n",
    "B = 10 + Y/2 - X*1j\n",
    "C = -X*1j\n",
    "D = -5 - Y/2 + (X-2)*1j \n",
    "E = 15\n",
    "F = 0\n",
    "\n",
    "a = np.array([ [A,B],\n",
    "               [C,D] ])\n",
    "\n",
    "b = np.array([ [E],\n",
    "               [F] ])\n",
    "\n",
    "x = np.linalg.solve(a, b)\n",
    "\n",
    "Ep = to_pd(E) #E en formato polar\n",
    "Fp = to_pd(F) #F en formato polar\n",
    "i1 = to_pd(x[0])\n",
    "i2 = to_pd(x[1])\n",
    "v0 = to_pd(5*x[1])"
   ]
  },
  {
   "source": [
    "Ahora se imprimen los resultados..."
   ],
   "cell_type": "markdown",
   "metadata": {}
  },
  {
   "cell_type": "code",
   "execution_count": 5,
   "metadata": {},
   "outputs": [
    {
     "output_type": "stream",
     "name": "stdout",
     "text": [
      "Resultados del primer problema\nA = 4.000+10.000j\nB = 11.500-10.000j\nC = -0.000-10.000j\nD = -6.500+8.000j\nE = 15.000 ∠ 0.000\nF = 0.000 ∠ 0.000\nv0 = 9.122 ∠ -4.185\n"
     ]
    }
   ],
   "source": [
    "print(\"Resultados del primer problema\")\n",
    "print('A = {:.3f}'.format(A))\n",
    "print('B = {:.3f}'.format(B))\n",
    "print('C = {:.3f}'.format(C))\n",
    "print('D = {:.3f}'.format(D))\n",
    "print(\"E = %5.3f\" %Ep[0], end=' ')\n",
    "print(\"∠\", end=' ')\n",
    "print(\"%5.3f\" %Ep[1])\n",
    "print(\"F = %5.3f\" %Fp[0], end=' ')\n",
    "print(\"∠\", end=' ')\n",
    "print(\"%5.3f\" %Fp[1])\n",
    "# print(\"i1 = %5.3f\" %i1[0], end=' ')\n",
    "# print(\"∠\", end=' ')\n",
    "# print(\"%5.3f\" %i1[1])\n",
    "# print(\"i2 = %5.3f\" %i2[0], end=' ')\n",
    "# print(\"∠\", end=' ')\n",
    "# print(\"%5.3f\" %i2[1])\n",
    "print(\"v0 = %5.3f\" %v0[0], end=' ')\n",
    "print(\"∠\", end=' ')\n",
    "print(\"%5.3f\" %v0[1])"
   ]
  },
  {
   "source": [
    "### Segundo problema\n",
    "\n",
    "![Prob 2](img/prob2.JPG)\n",
    "\n",
    "Resolvemos los nodos...\n",
    "\n",
    "Ecuación del nodo $v_1$\n",
    "\n",
    "$\\left( \\dfrac{1}{6} - j\\dfrac{3}{4} \\right)\\cdot v_1 + \\left(\\dfrac{1}{6} \\right)\\cdot v_2  + 0\\cdot v_3= 15$\n",
    "\n",
    "Ecuación del nodo $v_2$\n",
    "\n",
    "$0\\cdot v_1 + v_2 + 0\\cdot v_3 = (10\\cdot X)\\angle 60$\n",
    "\n",
    "Ecuación del nodo $v_3$\n",
    "\n",
    "$\\left(j\\dfrac{1}{2} \\right)\\cdot v_1 + \\left(- j\\dfrac{1}{3} \\right)\\cdot v_2 + \\left(j\\dfrac{1}{3} \\right)\\cdot v_3 = Y\\angle 60$\n",
    "\n",
    "con estos resultados definimos las variables y solucionamos el sistema de ecuaciones"
   ],
   "cell_type": "markdown",
   "metadata": {}
  },
  {
   "cell_type": "code",
   "execution_count": 6,
   "metadata": {},
   "outputs": [],
   "source": [
    "A = 1/6 - (3/4)*1j\n",
    "B = -1/6\n",
    "C = 0\n",
    "D = 0 \n",
    "E = 1\n",
    "F = 0\n",
    "G = (1/2)*1j\n",
    "H = -(1/3)*1j\n",
    "I = (1/3)*1j\n",
    "\n",
    "J = 0\n",
    "K = to_rd(X,60)\n",
    "L = to_rd(Y,30)\n",
    "Jp = to_pd(J)\n",
    "Kp = to_pd(K)\n",
    "Lp = to_pd(L)\n",
    "\n",
    "\n",
    "a = np.array([ [A,B,C],\n",
    "               [D,E,F],\n",
    "               [G,H,I] ])\n",
    "\n",
    "b = np.array([ [J],\n",
    "               [K],\n",
    "               [L] ])\n",
    "\n",
    "x = np.linalg.solve(a, b)\n",
    "\n",
    "v1 = to_pd(x[0])\n",
    "v2 = to_pd(x[1])\n",
    "v3 = to_pd(x[2])\n",
    "ix = to_pd(x[0]/(4j))"
   ]
  },
  {
   "source": [
    "Ahora se imprimen los resultados..."
   ],
   "cell_type": "markdown",
   "metadata": {}
  },
  {
   "cell_type": "code",
   "execution_count": 7,
   "metadata": {},
   "outputs": [
    {
     "output_type": "stream",
     "name": "stdout",
     "text": [
      "Resultados del primer problema\nA = 0.167-0.750j\nB = -0.167\nC = 0.000\nD = 0.000\nE = 1.000\nF = 0.000\nG = 0.000+0.500j\nH = -0.000-0.333j\nI = 0.000+0.333j\nJ = 0.000 ∠ 0.000\nK = 10.000 ∠ 60.000\nL = 3.000 ∠ 30.000\nv1 = 2.169 ∠ 137.471\nv3 = 11.972 ∠ -6.395\nix = 0.542 ∠ 47.471\n"
     ]
    }
   ],
   "source": [
    "print(\"Resultados del primer problema\")\n",
    "print('A = {:.3f}'.format(A))\n",
    "print('B = {:.3f}'.format(B))\n",
    "print('C = {:.3f}'.format(C))\n",
    "print('D = {:.3f}'.format(D))\n",
    "print('E = {:.3f}'.format(E))\n",
    "print('F = {:.3f}'.format(F))\n",
    "print('G = {:.3f}'.format(G))\n",
    "print('H = {:.3f}'.format(H))\n",
    "print('I = {:.3f}'.format(I))\n",
    "print(\"J = %.3f\" %Jp[0], end=' ')\n",
    "print(\"∠\", end=' ')\n",
    "print(\"%.3f\" %Jp[1])\n",
    "print(\"K = %.3f\" %Kp[0], end=' ')\n",
    "print(\"∠\", end=' ')\n",
    "print(\"%.3f\" %Kp[1])\n",
    "print(\"L = %.3f\" %Lp[0], end=' ')\n",
    "print(\"∠\", end=' ')\n",
    "print(\"%.3f\" %Lp[1])\n",
    "print(\"v1 = %.3f\" %v1[0], end=' ')\n",
    "print(\"∠\", end=' ')\n",
    "print(\"%.3f\" %v1[1])\n",
    "# print(\"v2 = %.3f\" %v2[0], end=' ')\n",
    "# print(\"∠\", end=' ')\n",
    "# print(\"%.3f\" %v2[1])\n",
    "print(\"v3 = %.3f\" %v3[0], end=' ')\n",
    "print(\"∠\", end=' ')\n",
    "print(\"%.3f\" %v3[1])\n",
    "print(\"ix = %.3f\" %ix[0], end=' ')\n",
    "print(\"∠\", end=' ')\n",
    "print(\"%.3f\" %ix[1])"
   ]
  },
  {
   "source": [
    "### Tercer problema\n",
    "\n",
    "![Prob 3](img/prob3.JPG)\n",
    "\n",
    "Para $v_{TH}$\n",
    "\n",
    "Eliminamos $Z_L$ y hacemos nodos colocando la referencia en $b$\n",
    "\n",
    "![Prob 3VTH](img/prob3_VTH.JPG)\n",
    "\n",
    "Ecuación del nodo $v_0$\n",
    "\n",
    "$\\left( \\dfrac{1}{2} - j\\left(\\dfrac{1}{2} - \\dfrac{1}{Y} \\right)\\right)\\cdot v_0 + \\left(-j\\dfrac{1}{2} \\right)\\cdot v_{TH}  = \\dfrac{X}{2}\\angle 30$\n",
    "\n",
    "Ecuación del nodo $v_{TH}$\n",
    "\n",
    "$\\left( -1 -j\\dfrac{1}{2} \\right)\\cdot v_0 + \\left( j\\dfrac{1}{2} \\right) \\cdot v_{TH} = 0$\n",
    "\n",
    "con estos resultados definimos las variables y solucionamos el sistema de ecuaciones"
   ],
   "cell_type": "markdown",
   "metadata": {}
  },
  {
   "cell_type": "code",
   "execution_count": 8,
   "metadata": {},
   "outputs": [],
   "source": [
    "A = 1/2 + (1/2 - 1/Y)*1j\n",
    "B = -1/2*1j\n",
    "C = -1-(1/2)*1j\n",
    "D = (1/2)*1j\n",
    "E = to_rd(X/2,30)\n",
    "F = 0\n",
    "\n",
    "\n",
    "a = np.array([ [A,B],\n",
    "               [C,D] ])\n",
    "\n",
    "b = np.array([ [E],\n",
    "               [F] ])\n",
    "\n",
    "x = np.linalg.solve(a, b)\n",
    "\n",
    "v0 = to_pd(x[0])\n",
    "vTH = to_pd(x[1])"
   ]
  },
  {
   "source": [
    "Para $Z_{TH}$\n",
    "\n",
    "Eliminamos $Z_L$ y colocamos una fuente de voltaje con valor $1\\angle 0\\,\\mathrm{V} $ en su lugar, colocamos la referencia en $b$ de modo que solo el nodo $v_0$ queda pendiente de solucionar...\n",
    "\n",
    "![Prob 3ZTH](img/prob3_ZTH.JPG)\n",
    "\n",
    "Ecuación del nodo $v_0$\n",
    "\n",
    "$\\left( \\dfrac{1}{2} + j\\left(\\dfrac{1}{2} - \\dfrac{1}{Y} \\right)\\right)\\cdot v_0 = \\dfrac{X}{2}\\angle 30 + j\\dfrac{1}{2}$\n",
    "\n",
    "Además\n",
    "\n",
    "$i_y = \\dfrac{1-v_0}{-j2}$\n",
    "\n",
    "También\n",
    "\n",
    "$i_x = i_y - v_0$\n",
    "\n",
    "Por último\n",
    "\n",
    "$Z_{TH} = \\dfrac{1\\angle 0\\}{i_x}\n",
    "\n",
    "con estos resultados definimos las variables y solucionamos el sistema de ecuaciones"
   ],
   "cell_type": "markdown",
   "metadata": {}
  },
  {
   "cell_type": "code",
   "execution_count": 9,
   "metadata": {},
   "outputs": [],
   "source": [
    "A = 1/2 + (1/2 - 1/Y)*1j\n",
    "B = to_rd(X/2,30) + (1/2)*1j\n",
    "v0 = B/A\n",
    "y = (1-v0)/(-2j)\n",
    "iy = to_pd(y)\n",
    "x = y - v0\n",
    "ix = to_pd(x)\n",
    "ZTH = 1/x\n",
    "ZL = np.conj(ZTH)"
   ]
  },
  {
   "cell_type": "code",
   "execution_count": 10,
   "metadata": {},
   "outputs": [
    {
     "output_type": "stream",
     "name": "stdout",
     "text": [
      "Resultados del tercer problema\n",
      "vTH = 18.605 ∠ 112.875\n",
      "ZTH = -0.070+0.060j\n",
      "ZL = -0.070-0.060j\n",
      "Pmax = inf\n"
     ]
    }
   ],
   "source": [
    "print(\"Resultados del tercer problema\")\n",
    "print(\"vTH = %.3f\" %vTH[0], end=' ')\n",
    "print(\"∠\", end=' ')\n",
    "print(\"%.3f\" %vTH[1])\n",
    "print('ZTH = {:.3f}'.format(ZTH))\n",
    "print('ZL = {:.3f}'.format(ZL))\n",
    "\n",
    "if ZL.real > 0:\n",
    "    Pmax = np.power(vTH[0].item(),2)/(8*ZL.real)\n",
    "    print('Pmax = {:.3f}'.format(Pmax))\n",
    "else:\n",
    "    Pmax = 'inf'\n",
    "    print('Pmax = %s' %Pmax)"
   ]
  }
 ]
}