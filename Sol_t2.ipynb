{
 "cells": [
  {
   "cell_type": "markdown",
   "metadata": {},
   "source": [
    "# Solución de Tarea 2\n",
    "\n",
    "Primero se incluyen los paquetes necesarios, *csv*, *numpy* y *matplotlib* "
   ]
  },
  {
   "cell_type": "code",
   "execution_count": 7,
   "metadata": {},
   "outputs": [],
   "source": [
    "import csv\n",
    "import numpy as np\n",
    "import matplotlib.pyplot as plt"
   ]
  },
  {
   "cell_type": "markdown",
   "metadata": {},
   "source": [
    "Luego se crean un par de matrices para nuestros datos de $SOC$ y $OCV$"
   ]
  },
  {
   "cell_type": "code",
   "execution_count": 8,
   "metadata": {},
   "outputs": [],
   "source": [
    "soc = np.array([])\n",
    "ocv = np.array([])"
   ]
  },
  {
   "cell_type": "markdown",
   "metadata": {},
   "source": [
    "Ahora:\n",
    "* se abre el archivo *OCV(z).csv* en modo de solo lectura *r*\n",
    "* se imprime la primera fila, que tiene los títulos\n",
    "* se ingresa en el loop dejando afuera la primera fila y se van anexando los datos en las matrices"
   ]
  },
  {
   "cell_type": "code",
   "execution_count": 9,
   "metadata": {},
   "outputs": [
    {
     "name": "stdout",
     "output_type": "stream",
     "text": [
      "Los títulos de las columnas son:\n",
      "['SOC', 'OCV']\n"
     ]
    }
   ],
   "source": [
    "with open(\"OCV(z).csv\", mode=\"r\")as file:\n",
    "    read = csv.reader(file)\n",
    "    print(\"Los títulos de las columnas son:\")\n",
    "    print(next(read))\n",
    "    for row in read:\n",
    "        soc = np.append(soc,float(row[0]))\n",
    "        ocv = np.append(ocv,float(row[1]))"
   ]
  },
  {
   "cell_type": "markdown",
   "metadata": {},
   "source": [
    "Luego se grafican los datos usando matlibplot"
   ]
  },
  {
   "cell_type": "code",
   "execution_count": 10,
   "metadata": {},
   "outputs": [
    {
     "data": {
      "image/png": "[encoded data removed]",
      "text/plain": [
       "<Figure size 432x288 with 1 Axes>"
      ]
     },
     "metadata": {
      "needs_background": "light"
     },
     "output_type": "display_data"
    }
   ],
   "source": [
    "plt.plot(soc,ocv)\n",
    "plt.show()"
   ]
  },
  {
   "cell_type": "markdown",
   "metadata": {},
   "source": [
    "Ahora se define la función que se usa para interpolar"
   ]
  },
  {
   "cell_type": "code",
   "execution_count": 52,
   "metadata": {},
   "outputs": [],
   "source": [
    "def ocv_value(soc_values, ocv_values, input_soc):\n",
    "    \"devuelve el valor del OCV para cualquier SOC\"\n",
    "    output_ocv = 0\n",
    "    for i in range(len(soc_values)):\n",
    "        if input_soc <= soc_values[i]:\n",
    "            if soc_values[i-1] == soc_values[i]:\n",
    "                output_ocv = ocv_values[i]\n",
    "                break\n",
    "            output_ocv = ocv_values[i-1] + (ocv_values[i]-ocv_values[i-1])*((input_soc - soc_values[i-1])/(soc_values[i] - soc_values[i-1]))\n",
    "            break\n",
    "    return output_ocv"
   ]
  },
  {
   "cell_type": "markdown",
   "metadata": {},
   "source": []
  },
  {
   "cell_type": "code",
   "execution_count": 62,
   "metadata": {},
   "outputs": [],
   "source": [
    "ocv_int = np.array([])\n",
    "soc_int = np.linspace(0.2, 1, num=10)\n",
    "for i in range(len(soc_int)):\n",
    "    ocv_int = np.append(ocv_int,ocv_value(soc,ocv,soc_int[i]))"
   ]
  },
  {
   "cell_type": "code",
   "execution_count": 63,
   "metadata": {},
   "outputs": [
    {
     "data": {
      "image/png": "[encoded data removed]",
      "text/plain": [
       "<Figure size 432x288 with 1 Axes>"
      ]
     },
     "metadata": {
      "needs_background": "light"
     },
     "output_type": "display_data"
    }
   ],
   "source": [
    "plt.plot(soc_int,ocv_int,'or',soc,ocv)\n",
    "plt.show()"
   ]
  },
  {
   "cell_type": "code",
   "execution_count": null,
   "metadata": {},
   "outputs": [],
   "source": []
  },
  {
   "cell_type": "code",
   "execution_count": null,
   "metadata": {},
   "outputs": [],
   "source": []
  }
 ],
 "metadata": {
  "kernelspec": {
   "display_name": "Python 3",
   "language": "python",
   "name": "python3"
  },
  "language_info": {
   "codemirror_mode": {
    "name": "ipython",
    "version": 3
   },
   "file_extension": ".py",
   "mimetype": "text/x-python",
   "name": "python",
   "nbconvert_exporter": "python",
   "pygments_lexer": "ipython3",
   "version": "3.8.3"
  }
 },
 "nbformat": 4,
 "nbformat_minor": 4
}
